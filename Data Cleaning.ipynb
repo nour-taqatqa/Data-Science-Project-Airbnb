{
  "cells": [
    {
      "cell_type": "code",
      "execution_count": null,
      "id": "db98d0a4",
      "metadata": {
        "id": "db98d0a4"
      },
      "outputs": [],
      "source": [
        "# Put your data cleaning/preparation code with comments here\n",
        "# The code should begin from reading the training data\n",
        "# The code should end when you obtain the data used for the model in Question 4\n",
        "import pandas as pd\n",
        "import numpy as np\n",
        "import matplotlib.pyplot as plt\n",
        "import seaborn as sns\n",
        "import statsmodels.formula.api as smf\n",
        "import statsmodels.api as sm\n",
        "from matplotlib.patches import Patch\n",
        "from matplotlib.lines import Line2D\n",
        "from sklearn.linear_model import LinearRegression\n",
        "from sklearn.preprocessing import PolynomialFeatures\n",
        "from sklearn.metrics import mean_squared_error, mean_absolute_error, r2_score\n",
        "from sklearn.model_selection import train_test_split\n",
        "from sklearn.metrics import precision_recall_curve, roc_curve, auc, accuracy_score\n",
        "from sklearn.linear_model import LogisticRegression\n",
        "from sklearn.model_selection import train_test_split\n",
        "import sklearn as sk\n",
        "from sklearn import metrics\n",
        "from sklearn import impute\n",
        "\n",
        "\n",
        "from sklearn.model_selection import train_test_split, cross_val_score, train_test_split, cross_val_predict,\\\n",
        "cross_validate, KFold, StratifiedKFold, RepeatedKFold, GridSearchCV, ParameterGrid, RandomizedSearchCV\n",
        "from sklearn.preprocessing import StandardScaler\n",
        "from sklearn.neighbors import KNeighborsRegressor, KNeighborsClassifier\n",
        "from sklearn.metrics import mean_squared_error, mean_absolute_error, accuracy_score, roc_curve, auc,recall_score\n",
        "from sklearn.tree import DecisionTreeRegressor, DecisionTreeClassifier\n",
        "from sklearn.ensemble import BaggingRegressor, BaggingClassifier, RandomForestRegressor, RandomForestClassifier\n",
        "import os\n",
        "os.environ[\"OMP_NUM_THREADS\"] = \"1\""
      ]
    },
    {
      "cell_type": "code",
      "execution_count": null,
      "id": "eb3897e0",
      "metadata": {
        "id": "eb3897e0"
      },
      "outputs": [],
      "source": [
        "# sset = pd.read_csv(\"train_regression.csv\")\n",
        "# sset[\"bathrooms_text\"]=sset[\"bathrooms_text\"].apply(null_to_none)"
      ]
    },
    {
      "cell_type": "code",
      "execution_count": null,
      "id": "b1e89efb",
      "metadata": {
        "id": "b1e89efb"
      },
      "outputs": [],
      "source": [
        "# sset[\"bathrooms_text\"].unique()"
      ]
    },
    {
      "cell_type": "code",
      "execution_count": null,
      "id": "f6f7ba08",
      "metadata": {
        "id": "f6f7ba08",
        "outputId": "b2281c79-52c5-44ed-b4cc-e0a11843cc17"
      },
      "outputs": [
        {
          "data": {
            "text/html": [
              "<div>\n",
              "<style scoped>\n",
              "    .dataframe tbody tr th:only-of-type {\n",
              "        vertical-align: middle;\n",
              "    }\n",
              "\n",
              "    .dataframe tbody tr th {\n",
              "        vertical-align: top;\n",
              "    }\n",
              "\n",
              "    .dataframe thead th {\n",
              "        text-align: right;\n",
              "    }\n",
              "</style>\n",
              "<table border=\"1\" class=\"dataframe\">\n",
              "  <thead>\n",
              "    <tr style=\"text-align: right;\">\n",
              "      <th></th>\n",
              "      <th>id</th>\n",
              "      <th>host_id</th>\n",
              "      <th>host_since</th>\n",
              "      <th>host_location</th>\n",
              "      <th>host_response_time</th>\n",
              "      <th>host_response_rate</th>\n",
              "      <th>host_acceptance_rate</th>\n",
              "      <th>host_is_superhost</th>\n",
              "      <th>host_neighbourhood</th>\n",
              "      <th>host_listings_count</th>\n",
              "      <th>...</th>\n",
              "      <th>review_scores_checkin</th>\n",
              "      <th>review_scores_communication</th>\n",
              "      <th>review_scores_location</th>\n",
              "      <th>review_scores_value</th>\n",
              "      <th>instant_bookable</th>\n",
              "      <th>calculated_host_listings_count</th>\n",
              "      <th>calculated_host_listings_count_entire_homes</th>\n",
              "      <th>calculated_host_listings_count_private_rooms</th>\n",
              "      <th>calculated_host_listings_count_shared_rooms</th>\n",
              "      <th>reviews_per_month</th>\n",
              "    </tr>\n",
              "  </thead>\n",
              "  <tbody>\n",
              "    <tr>\n",
              "      <th>0</th>\n",
              "      <td>53872917</td>\n",
              "      <td>366516391</td>\n",
              "      <td>2018-04-09</td>\n",
              "      <td>Chicago, IL</td>\n",
              "      <td>within an hour</td>\n",
              "      <td>96%</td>\n",
              "      <td>95%</td>\n",
              "      <td>f</td>\n",
              "      <td>Back of the Yards</td>\n",
              "      <td>11</td>\n",
              "      <td>...</td>\n",
              "      <td>5.00</td>\n",
              "      <td>5.00</td>\n",
              "      <td>4.28</td>\n",
              "      <td>4.83</td>\n",
              "      <td>f</td>\n",
              "      <td>9</td>\n",
              "      <td>1</td>\n",
              "      <td>8</td>\n",
              "      <td>0</td>\n",
              "      <td>0.33</td>\n",
              "    </tr>\n",
              "    <tr>\n",
              "      <th>1</th>\n",
              "      <td>39269663</td>\n",
              "      <td>50276775</td>\n",
              "      <td>2014-12-23</td>\n",
              "      <td>NaN</td>\n",
              "      <td>within an hour</td>\n",
              "      <td>100%</td>\n",
              "      <td>97%</td>\n",
              "      <td>f</td>\n",
              "      <td>Clearwater Beach</td>\n",
              "      <td>1141</td>\n",
              "      <td>...</td>\n",
              "      <td>NaN</td>\n",
              "      <td>NaN</td>\n",
              "      <td>NaN</td>\n",
              "      <td>NaN</td>\n",
              "      <td>t</td>\n",
              "      <td>58</td>\n",
              "      <td>0</td>\n",
              "      <td>58</td>\n",
              "      <td>0</td>\n",
              "      <td>NaN</td>\n",
              "    </tr>\n",
              "    <tr>\n",
              "      <th>2</th>\n",
              "      <td>556480733030442463</td>\n",
              "      <td>681680651</td>\n",
              "      <td>2020-03-08</td>\n",
              "      <td>NaN</td>\n",
              "      <td>within an hour</td>\n",
              "      <td>100%</td>\n",
              "      <td>100%</td>\n",
              "      <td>f</td>\n",
              "      <td>Lake View East</td>\n",
              "      <td>1</td>\n",
              "      <td>...</td>\n",
              "      <td>5.00</td>\n",
              "      <td>5.00</td>\n",
              "      <td>4.93</td>\n",
              "      <td>4.80</td>\n",
              "      <td>f</td>\n",
              "      <td>1</td>\n",
              "      <td>1</td>\n",
              "      <td>0</td>\n",
              "      <td>0</td>\n",
              "      <td>2.78</td>\n",
              "    </tr>\n",
              "    <tr>\n",
              "      <th>3</th>\n",
              "      <td>52397280</td>\n",
              "      <td>94345291</td>\n",
              "      <td>2015-10-22</td>\n",
              "      <td>Chicago, IL</td>\n",
              "      <td>within an hour</td>\n",
              "      <td>100%</td>\n",
              "      <td>98%</td>\n",
              "      <td>f</td>\n",
              "      <td>Bucktown</td>\n",
              "      <td>55</td>\n",
              "      <td>...</td>\n",
              "      <td>4.38</td>\n",
              "      <td>4.23</td>\n",
              "      <td>4.54</td>\n",
              "      <td>3.85</td>\n",
              "      <td>t</td>\n",
              "      <td>55</td>\n",
              "      <td>55</td>\n",
              "      <td>0</td>\n",
              "      <td>0</td>\n",
              "      <td>3.61</td>\n",
              "    </tr>\n",
              "    <tr>\n",
              "      <th>4</th>\n",
              "      <td>745949202271858960</td>\n",
              "      <td>790998106</td>\n",
              "      <td>2021-04-04</td>\n",
              "      <td>Chicago, IL</td>\n",
              "      <td>within an hour</td>\n",
              "      <td>100%</td>\n",
              "      <td>100%</td>\n",
              "      <td>t</td>\n",
              "      <td>Near South Side</td>\n",
              "      <td>74</td>\n",
              "      <td>...</td>\n",
              "      <td>4.83</td>\n",
              "      <td>4.85</td>\n",
              "      <td>4.74</td>\n",
              "      <td>4.72</td>\n",
              "      <td>t</td>\n",
              "      <td>74</td>\n",
              "      <td>74</td>\n",
              "      <td>0</td>\n",
              "      <td>0</td>\n",
              "      <td>3.24</td>\n",
              "    </tr>\n",
              "    <tr>\n",
              "      <th>...</th>\n",
              "      <td>...</td>\n",
              "      <td>...</td>\n",
              "      <td>...</td>\n",
              "      <td>...</td>\n",
              "      <td>...</td>\n",
              "      <td>...</td>\n",
              "      <td>...</td>\n",
              "      <td>...</td>\n",
              "      <td>...</td>\n",
              "      <td>...</td>\n",
              "      <td>...</td>\n",
              "      <td>...</td>\n",
              "      <td>...</td>\n",
              "      <td>...</td>\n",
              "      <td>...</td>\n",
              "      <td>...</td>\n",
              "      <td>...</td>\n",
              "      <td>...</td>\n",
              "      <td>...</td>\n",
              "      <td>...</td>\n",
              "      <td>...</td>\n",
              "    </tr>\n",
              "    <tr>\n",
              "      <th>4995</th>\n",
              "      <td>41561598</td>\n",
              "      <td>469571763</td>\n",
              "      <td>2019-01-06</td>\n",
              "      <td>Chicago, IL</td>\n",
              "      <td>within a few hours</td>\n",
              "      <td>88%</td>\n",
              "      <td>84%</td>\n",
              "      <td>t</td>\n",
              "      <td>Rogers Park</td>\n",
              "      <td>2</td>\n",
              "      <td>...</td>\n",
              "      <td>5.00</td>\n",
              "      <td>4.99</td>\n",
              "      <td>4.98</td>\n",
              "      <td>4.96</td>\n",
              "      <td>f</td>\n",
              "      <td>2</td>\n",
              "      <td>0</td>\n",
              "      <td>2</td>\n",
              "      <td>0</td>\n",
              "      <td>1.32</td>\n",
              "    </tr>\n",
              "    <tr>\n",
              "      <th>4996</th>\n",
              "      <td>38350907</td>\n",
              "      <td>981504375</td>\n",
              "      <td>2022-12-08</td>\n",
              "      <td>Chicago, IL</td>\n",
              "      <td>within an hour</td>\n",
              "      <td>100%</td>\n",
              "      <td>89%</td>\n",
              "      <td>t</td>\n",
              "      <td>Irving Park</td>\n",
              "      <td>8</td>\n",
              "      <td>...</td>\n",
              "      <td>4.75</td>\n",
              "      <td>4.90</td>\n",
              "      <td>4.98</td>\n",
              "      <td>4.56</td>\n",
              "      <td>f</td>\n",
              "      <td>8</td>\n",
              "      <td>8</td>\n",
              "      <td>0</td>\n",
              "      <td>0</td>\n",
              "      <td>13.11</td>\n",
              "    </tr>\n",
              "    <tr>\n",
              "      <th>4997</th>\n",
              "      <td>913493910258754935</td>\n",
              "      <td>284822054</td>\n",
              "      <td>2017-07-25</td>\n",
              "      <td>Chicago, IL</td>\n",
              "      <td>within an hour</td>\n",
              "      <td>100%</td>\n",
              "      <td>97%</td>\n",
              "      <td>f</td>\n",
              "      <td>North Park</td>\n",
              "      <td>4</td>\n",
              "      <td>...</td>\n",
              "      <td>4.94</td>\n",
              "      <td>5.00</td>\n",
              "      <td>4.97</td>\n",
              "      <td>4.86</td>\n",
              "      <td>f</td>\n",
              "      <td>3</td>\n",
              "      <td>3</td>\n",
              "      <td>0</td>\n",
              "      <td>0</td>\n",
              "      <td>0.70</td>\n",
              "    </tr>\n",
              "    <tr>\n",
              "      <th>4998</th>\n",
              "      <td>825392040226364970</td>\n",
              "      <td>214868994</td>\n",
              "      <td>2016-12-16</td>\n",
              "      <td>New York, NY</td>\n",
              "      <td>within an hour</td>\n",
              "      <td>100%</td>\n",
              "      <td>97%</td>\n",
              "      <td>f</td>\n",
              "      <td>Cambridge</td>\n",
              "      <td>4820</td>\n",
              "      <td>...</td>\n",
              "      <td>NaN</td>\n",
              "      <td>NaN</td>\n",
              "      <td>NaN</td>\n",
              "      <td>NaN</td>\n",
              "      <td>f</td>\n",
              "      <td>643</td>\n",
              "      <td>643</td>\n",
              "      <td>0</td>\n",
              "      <td>0</td>\n",
              "      <td>NaN</td>\n",
              "    </tr>\n",
              "    <tr>\n",
              "      <th>4999</th>\n",
              "      <td>705815628392534448</td>\n",
              "      <td>1382147</td>\n",
              "      <td>2011-06-11</td>\n",
              "      <td>Chicago, IL</td>\n",
              "      <td>within a few hours</td>\n",
              "      <td>100%</td>\n",
              "      <td>87%</td>\n",
              "      <td>f</td>\n",
              "      <td>Englewood</td>\n",
              "      <td>22</td>\n",
              "      <td>...</td>\n",
              "      <td>5.00</td>\n",
              "      <td>5.00</td>\n",
              "      <td>5.00</td>\n",
              "      <td>5.00</td>\n",
              "      <td>f</td>\n",
              "      <td>22</td>\n",
              "      <td>0</td>\n",
              "      <td>2</td>\n",
              "      <td>20</td>\n",
              "      <td>0.37</td>\n",
              "    </tr>\n",
              "  </tbody>\n",
              "</table>\n",
              "<p>5000 rows × 54 columns</p>\n",
              "</div>"
            ],
            "text/plain": [
              "                      id    host_id  host_since host_location  \\\n",
              "0               53872917  366516391  2018-04-09   Chicago, IL   \n",
              "1               39269663   50276775  2014-12-23           NaN   \n",
              "2     556480733030442463  681680651  2020-03-08           NaN   \n",
              "3               52397280   94345291  2015-10-22   Chicago, IL   \n",
              "4     745949202271858960  790998106  2021-04-04   Chicago, IL   \n",
              "...                  ...        ...         ...           ...   \n",
              "4995            41561598  469571763  2019-01-06   Chicago, IL   \n",
              "4996            38350907  981504375  2022-12-08   Chicago, IL   \n",
              "4997  913493910258754935  284822054  2017-07-25   Chicago, IL   \n",
              "4998  825392040226364970  214868994  2016-12-16  New York, NY   \n",
              "4999  705815628392534448    1382147  2011-06-11   Chicago, IL   \n",
              "\n",
              "      host_response_time host_response_rate host_acceptance_rate  \\\n",
              "0         within an hour                96%                  95%   \n",
              "1         within an hour               100%                  97%   \n",
              "2         within an hour               100%                 100%   \n",
              "3         within an hour               100%                  98%   \n",
              "4         within an hour               100%                 100%   \n",
              "...                  ...                ...                  ...   \n",
              "4995  within a few hours                88%                  84%   \n",
              "4996      within an hour               100%                  89%   \n",
              "4997      within an hour               100%                  97%   \n",
              "4998      within an hour               100%                  97%   \n",
              "4999  within a few hours               100%                  87%   \n",
              "\n",
              "     host_is_superhost host_neighbourhood  host_listings_count  ...  \\\n",
              "0                    f  Back of the Yards                   11  ...   \n",
              "1                    f   Clearwater Beach                 1141  ...   \n",
              "2                    f     Lake View East                    1  ...   \n",
              "3                    f           Bucktown                   55  ...   \n",
              "4                    t    Near South Side                   74  ...   \n",
              "...                ...                ...                  ...  ...   \n",
              "4995                 t        Rogers Park                    2  ...   \n",
              "4996                 t        Irving Park                    8  ...   \n",
              "4997                 f         North Park                    4  ...   \n",
              "4998                 f          Cambridge                 4820  ...   \n",
              "4999                 f          Englewood                   22  ...   \n",
              "\n",
              "      review_scores_checkin review_scores_communication  \\\n",
              "0                      5.00                        5.00   \n",
              "1                       NaN                         NaN   \n",
              "2                      5.00                        5.00   \n",
              "3                      4.38                        4.23   \n",
              "4                      4.83                        4.85   \n",
              "...                     ...                         ...   \n",
              "4995                   5.00                        4.99   \n",
              "4996                   4.75                        4.90   \n",
              "4997                   4.94                        5.00   \n",
              "4998                    NaN                         NaN   \n",
              "4999                   5.00                        5.00   \n",
              "\n",
              "     review_scores_location review_scores_value instant_bookable  \\\n",
              "0                      4.28                4.83                f   \n",
              "1                       NaN                 NaN                t   \n",
              "2                      4.93                4.80                f   \n",
              "3                      4.54                3.85                t   \n",
              "4                      4.74                4.72                t   \n",
              "...                     ...                 ...              ...   \n",
              "4995                   4.98                4.96                f   \n",
              "4996                   4.98                4.56                f   \n",
              "4997                   4.97                4.86                f   \n",
              "4998                    NaN                 NaN                f   \n",
              "4999                   5.00                5.00                f   \n",
              "\n",
              "      calculated_host_listings_count  \\\n",
              "0                                  9   \n",
              "1                                 58   \n",
              "2                                  1   \n",
              "3                                 55   \n",
              "4                                 74   \n",
              "...                              ...   \n",
              "4995                               2   \n",
              "4996                               8   \n",
              "4997                               3   \n",
              "4998                             643   \n",
              "4999                              22   \n",
              "\n",
              "      calculated_host_listings_count_entire_homes  \\\n",
              "0                                               1   \n",
              "1                                               0   \n",
              "2                                               1   \n",
              "3                                              55   \n",
              "4                                              74   \n",
              "...                                           ...   \n",
              "4995                                            0   \n",
              "4996                                            8   \n",
              "4997                                            3   \n",
              "4998                                          643   \n",
              "4999                                            0   \n",
              "\n",
              "     calculated_host_listings_count_private_rooms  \\\n",
              "0                                               8   \n",
              "1                                              58   \n",
              "2                                               0   \n",
              "3                                               0   \n",
              "4                                               0   \n",
              "...                                           ...   \n",
              "4995                                            2   \n",
              "4996                                            0   \n",
              "4997                                            0   \n",
              "4998                                            0   \n",
              "4999                                            2   \n",
              "\n",
              "     calculated_host_listings_count_shared_rooms  reviews_per_month  \n",
              "0                                              0               0.33  \n",
              "1                                              0                NaN  \n",
              "2                                              0               2.78  \n",
              "3                                              0               3.61  \n",
              "4                                              0               3.24  \n",
              "...                                          ...                ...  \n",
              "4995                                           0               1.32  \n",
              "4996                                           0              13.11  \n",
              "4997                                           0               0.70  \n",
              "4998                                           0                NaN  \n",
              "4999                                          20               0.37  \n",
              "\n",
              "[5000 rows x 54 columns]"
            ]
          },
          "execution_count": 167,
          "metadata": {},
          "output_type": "execute_result"
        }
      ],
      "source": [
        "training_dataset=pd.read_csv(\"train_regression.csv\")#54 columns\n",
        "training_dataset"
      ]
    },
    {
      "cell_type": "code",
      "execution_count": null,
      "id": "bdbed4af",
      "metadata": {
        "id": "bdbed4af"
      },
      "outputs": [],
      "source": [
        "test_dataset= pd.read_csv(\"test_regression.csv\") # don't touch this other than cleaning\n",
        "# test_dataset"
      ]
    },
    {
      "cell_type": "code",
      "execution_count": null,
      "id": "53204f0c",
      "metadata": {
        "id": "53204f0c"
      },
      "outputs": [],
      "source": [
        "#dropping\n",
        "training_dataset = training_dataset.drop([\"id\", \"host_id\", \"host_since\",\"first_review\",\"last_review\"], axis=1)\n",
        "test_dataset=test_dataset.drop([\"id\", \"host_id\", \"host_since\",\"first_review\",\"last_review\"], axis=1)"
      ]
    },
    {
      "cell_type": "code",
      "execution_count": null,
      "id": "6fc4eb79",
      "metadata": {
        "id": "6fc4eb79"
      },
      "outputs": [],
      "source": [
        "# training_dataset.dtypes"
      ]
    },
    {
      "cell_type": "code",
      "execution_count": null,
      "id": "f8b6fb54",
      "metadata": {
        "id": "f8b6fb54",
        "outputId": "7046bf28-0ad5-4e38-8906-2bd1d0619166"
      },
      "outputs": [
        {
          "name": "stderr",
          "output_type": "stream",
          "text": [
            "<>:2: SyntaxWarning: invalid escape sequence '\\$'\n",
            "<>:2: SyntaxWarning: invalid escape sequence '\\$'\n",
            "/tmp/ipykernel_154228/3849424866.py:2: SyntaxWarning: invalid escape sequence '\\$'\n",
            "  training_dataset.replace('[\\$,]', '', regex=True, inplace=True)\n"
          ]
        }
      ],
      "source": [
        "#cleaning the price: removing the dollar sign\n",
        "training_dataset.replace('[\\$,]', '', regex=True, inplace=True)\n",
        "\n",
        "#cleaning the  % sign\n",
        "training_dataset[[\"host_acceptance_rate\",'host_response_rate']] = training_dataset[[\"host_acceptance_rate\",'host_response_rate']].apply(lambda x: x.str.replace(r'%', ''))\n",
        "\n",
        "#converting to a float\n",
        "training_dataset[['price','host_response_rate',\"host_acceptance_rate\",'beds','number_of_reviews']]=training_dataset[['price','host_response_rate',\"host_acceptance_rate\",'beds','number_of_reviews']].apply(lambda x: pd.to_numeric(x,errors = 'coerce'))"
      ]
    },
    {
      "cell_type": "code",
      "execution_count": null,
      "id": "e2cd5e0c",
      "metadata": {
        "id": "e2cd5e0c"
      },
      "outputs": [],
      "source": [
        "# training_dataset.dtypes"
      ]
    },
    {
      "cell_type": "code",
      "execution_count": null,
      "id": "9ebeb43d",
      "metadata": {
        "id": "9ebeb43d",
        "outputId": "374b554f-1b2a-415e-abf1-361f512614eb"
      },
      "outputs": [
        {
          "data": {
            "text/plain": [
              "Index(['host_response_rate', 'host_acceptance_rate', 'host_listings_count',\n",
              "       'host_total_listings_count', 'latitude', 'longitude', 'accommodates',\n",
              "       'beds', 'price', 'minimum_nights', 'maximum_nights',\n",
              "       'minimum_minimum_nights', 'maximum_minimum_nights',\n",
              "       'minimum_maximum_nights', 'maximum_maximum_nights',\n",
              "       'minimum_nights_avg_ntm', 'maximum_nights_avg_ntm', 'availability_30',\n",
              "       'availability_60', 'availability_90', 'availability_365',\n",
              "       'number_of_reviews', 'number_of_reviews_ltm', 'number_of_reviews_l30d',\n",
              "       'review_scores_rating', 'review_scores_accuracy',\n",
              "       'review_scores_cleanliness', 'review_scores_checkin',\n",
              "       'review_scores_communication', 'review_scores_location',\n",
              "       'review_scores_value', 'calculated_host_listings_count',\n",
              "       'calculated_host_listings_count_entire_homes',\n",
              "       'calculated_host_listings_count_private_rooms',\n",
              "       'calculated_host_listings_count_shared_rooms', 'reviews_per_month'],\n",
              "      dtype='object')"
            ]
          },
          "execution_count": 173,
          "metadata": {},
          "output_type": "execute_result"
        }
      ],
      "source": [
        "numeric_df = training_dataset.select_dtypes(include=['number'])\n",
        "#numeric_df.index = training_dataset.index #setting the indices of the numeric df to be the same as original df to replace imputed values with original ones easily. not necissary because it's not index of rows that needs not to change but index of columns\n",
        "numeric_df.columns"
      ]
    },
    {
      "cell_type": "code",
      "execution_count": null,
      "id": "ed10116a",
      "metadata": {
        "id": "ed10116a",
        "outputId": "ef0dab39-a9b8-4b56-8e43-de43a7b78994"
      },
      "outputs": [
        {
          "data": {
            "text/html": [
              "<div>\n",
              "<style scoped>\n",
              "    .dataframe tbody tr th:only-of-type {\n",
              "        vertical-align: middle;\n",
              "    }\n",
              "\n",
              "    .dataframe tbody tr th {\n",
              "        vertical-align: top;\n",
              "    }\n",
              "\n",
              "    .dataframe thead th {\n",
              "        text-align: right;\n",
              "    }\n",
              "</style>\n",
              "<table border=\"1\" class=\"dataframe\">\n",
              "  <thead>\n",
              "    <tr style=\"text-align: right;\">\n",
              "      <th></th>\n",
              "      <th>bathrooms_text</th>\n",
              "      <th>has_availability</th>\n",
              "      <th>host_has_profile_pic</th>\n",
              "      <th>host_identity_verified</th>\n",
              "      <th>host_is_superhost</th>\n",
              "      <th>host_location</th>\n",
              "      <th>host_neighbourhood</th>\n",
              "      <th>host_response_time</th>\n",
              "      <th>host_verifications</th>\n",
              "      <th>instant_bookable</th>\n",
              "      <th>neighbourhood_cleansed</th>\n",
              "      <th>property_type</th>\n",
              "      <th>room_type</th>\n",
              "    </tr>\n",
              "  </thead>\n",
              "  <tbody>\n",
              "    <tr>\n",
              "      <th>0</th>\n",
              "      <td>1 shared bath</td>\n",
              "      <td>t</td>\n",
              "      <td>t</td>\n",
              "      <td>t</td>\n",
              "      <td>f</td>\n",
              "      <td>Chicago IL</td>\n",
              "      <td>Back of the Yards</td>\n",
              "      <td>within an hour</td>\n",
              "      <td>['email' 'phone']</td>\n",
              "      <td>f</td>\n",
              "      <td>New City</td>\n",
              "      <td>Private room in rental unit</td>\n",
              "      <td>Private room</td>\n",
              "    </tr>\n",
              "    <tr>\n",
              "      <th>1</th>\n",
              "      <td>3 baths</td>\n",
              "      <td>t</td>\n",
              "      <td>t</td>\n",
              "      <td>t</td>\n",
              "      <td>f</td>\n",
              "      <td>NaN</td>\n",
              "      <td>Clearwater Beach</td>\n",
              "      <td>within an hour</td>\n",
              "      <td>['email' 'phone']</td>\n",
              "      <td>t</td>\n",
              "      <td>Near North Side</td>\n",
              "      <td>Room in hotel</td>\n",
              "      <td>Private room</td>\n",
              "    </tr>\n",
              "    <tr>\n",
              "      <th>2</th>\n",
              "      <td>1 bath</td>\n",
              "      <td>t</td>\n",
              "      <td>t</td>\n",
              "      <td>t</td>\n",
              "      <td>f</td>\n",
              "      <td>NaN</td>\n",
              "      <td>Lake View East</td>\n",
              "      <td>within an hour</td>\n",
              "      <td>['phone']</td>\n",
              "      <td>f</td>\n",
              "      <td>Lake View</td>\n",
              "      <td>Entire rental unit</td>\n",
              "      <td>Entire home/apt</td>\n",
              "    </tr>\n",
              "    <tr>\n",
              "      <th>3</th>\n",
              "      <td>1 bath</td>\n",
              "      <td>t</td>\n",
              "      <td>t</td>\n",
              "      <td>t</td>\n",
              "      <td>f</td>\n",
              "      <td>Chicago IL</td>\n",
              "      <td>Bucktown</td>\n",
              "      <td>within an hour</td>\n",
              "      <td>['email' 'phone' 'work_email']</td>\n",
              "      <td>t</td>\n",
              "      <td>Hyde Park</td>\n",
              "      <td>Entire rental unit</td>\n",
              "      <td>Entire home/apt</td>\n",
              "    </tr>\n",
              "    <tr>\n",
              "      <th>4</th>\n",
              "      <td>2 baths</td>\n",
              "      <td>t</td>\n",
              "      <td>t</td>\n",
              "      <td>t</td>\n",
              "      <td>t</td>\n",
              "      <td>Chicago IL</td>\n",
              "      <td>Near South Side</td>\n",
              "      <td>within an hour</td>\n",
              "      <td>['email' 'phone']</td>\n",
              "      <td>t</td>\n",
              "      <td>Near South Side</td>\n",
              "      <td>Entire rental unit</td>\n",
              "      <td>Entire home/apt</td>\n",
              "    </tr>\n",
              "    <tr>\n",
              "      <th>...</th>\n",
              "      <td>...</td>\n",
              "      <td>...</td>\n",
              "      <td>...</td>\n",
              "      <td>...</td>\n",
              "      <td>...</td>\n",
              "      <td>...</td>\n",
              "      <td>...</td>\n",
              "      <td>...</td>\n",
              "      <td>...</td>\n",
              "      <td>...</td>\n",
              "      <td>...</td>\n",
              "      <td>...</td>\n",
              "      <td>...</td>\n",
              "    </tr>\n",
              "    <tr>\n",
              "      <th>4995</th>\n",
              "      <td>1 private bath</td>\n",
              "      <td>t</td>\n",
              "      <td>t</td>\n",
              "      <td>t</td>\n",
              "      <td>t</td>\n",
              "      <td>Chicago IL</td>\n",
              "      <td>Rogers Park</td>\n",
              "      <td>within a few hours</td>\n",
              "      <td>['email' 'phone']</td>\n",
              "      <td>f</td>\n",
              "      <td>Rogers Park</td>\n",
              "      <td>Private room in guest suite</td>\n",
              "      <td>Private room</td>\n",
              "    </tr>\n",
              "    <tr>\n",
              "      <th>4996</th>\n",
              "      <td>1 bath</td>\n",
              "      <td>t</td>\n",
              "      <td>t</td>\n",
              "      <td>t</td>\n",
              "      <td>t</td>\n",
              "      <td>Chicago IL</td>\n",
              "      <td>Irving Park</td>\n",
              "      <td>within an hour</td>\n",
              "      <td>['email' 'phone']</td>\n",
              "      <td>f</td>\n",
              "      <td>Lake View</td>\n",
              "      <td>Entire rental unit</td>\n",
              "      <td>Entire home/apt</td>\n",
              "    </tr>\n",
              "    <tr>\n",
              "      <th>4997</th>\n",
              "      <td>1 bath</td>\n",
              "      <td>t</td>\n",
              "      <td>t</td>\n",
              "      <td>t</td>\n",
              "      <td>f</td>\n",
              "      <td>Chicago IL</td>\n",
              "      <td>North Park</td>\n",
              "      <td>within an hour</td>\n",
              "      <td>['email' 'phone']</td>\n",
              "      <td>f</td>\n",
              "      <td>North Park</td>\n",
              "      <td>Entire rental unit</td>\n",
              "      <td>Entire home/apt</td>\n",
              "    </tr>\n",
              "    <tr>\n",
              "      <th>4998</th>\n",
              "      <td>1 bath</td>\n",
              "      <td>t</td>\n",
              "      <td>t</td>\n",
              "      <td>t</td>\n",
              "      <td>f</td>\n",
              "      <td>New York NY</td>\n",
              "      <td>Cambridge</td>\n",
              "      <td>within an hour</td>\n",
              "      <td>['email' 'phone' 'work_email']</td>\n",
              "      <td>f</td>\n",
              "      <td>Lake View</td>\n",
              "      <td>Entire rental unit</td>\n",
              "      <td>Entire home/apt</td>\n",
              "    </tr>\n",
              "    <tr>\n",
              "      <th>4999</th>\n",
              "      <td>2 shared baths</td>\n",
              "      <td>t</td>\n",
              "      <td>t</td>\n",
              "      <td>t</td>\n",
              "      <td>f</td>\n",
              "      <td>Chicago IL</td>\n",
              "      <td>Englewood</td>\n",
              "      <td>within a few hours</td>\n",
              "      <td>['email' 'phone']</td>\n",
              "      <td>f</td>\n",
              "      <td>South Chicago</td>\n",
              "      <td>Shared room in home</td>\n",
              "      <td>Shared room</td>\n",
              "    </tr>\n",
              "  </tbody>\n",
              "</table>\n",
              "<p>5000 rows × 13 columns</p>\n",
              "</div>"
            ],
            "text/plain": [
              "      bathrooms_text has_availability host_has_profile_pic  \\\n",
              "0      1 shared bath                t                    t   \n",
              "1            3 baths                t                    t   \n",
              "2             1 bath                t                    t   \n",
              "3             1 bath                t                    t   \n",
              "4            2 baths                t                    t   \n",
              "...              ...              ...                  ...   \n",
              "4995  1 private bath                t                    t   \n",
              "4996          1 bath                t                    t   \n",
              "4997          1 bath                t                    t   \n",
              "4998          1 bath                t                    t   \n",
              "4999  2 shared baths                t                    t   \n",
              "\n",
              "     host_identity_verified host_is_superhost host_location  \\\n",
              "0                         t                 f    Chicago IL   \n",
              "1                         t                 f           NaN   \n",
              "2                         t                 f           NaN   \n",
              "3                         t                 f    Chicago IL   \n",
              "4                         t                 t    Chicago IL   \n",
              "...                     ...               ...           ...   \n",
              "4995                      t                 t    Chicago IL   \n",
              "4996                      t                 t    Chicago IL   \n",
              "4997                      t                 f    Chicago IL   \n",
              "4998                      t                 f   New York NY   \n",
              "4999                      t                 f    Chicago IL   \n",
              "\n",
              "     host_neighbourhood  host_response_time              host_verifications  \\\n",
              "0     Back of the Yards      within an hour               ['email' 'phone']   \n",
              "1      Clearwater Beach      within an hour               ['email' 'phone']   \n",
              "2        Lake View East      within an hour                       ['phone']   \n",
              "3              Bucktown      within an hour  ['email' 'phone' 'work_email']   \n",
              "4       Near South Side      within an hour               ['email' 'phone']   \n",
              "...                 ...                 ...                             ...   \n",
              "4995        Rogers Park  within a few hours               ['email' 'phone']   \n",
              "4996        Irving Park      within an hour               ['email' 'phone']   \n",
              "4997         North Park      within an hour               ['email' 'phone']   \n",
              "4998          Cambridge      within an hour  ['email' 'phone' 'work_email']   \n",
              "4999          Englewood  within a few hours               ['email' 'phone']   \n",
              "\n",
              "     instant_bookable neighbourhood_cleansed                property_type  \\\n",
              "0                   f               New City  Private room in rental unit   \n",
              "1                   t        Near North Side                Room in hotel   \n",
              "2                   f              Lake View           Entire rental unit   \n",
              "3                   t              Hyde Park           Entire rental unit   \n",
              "4                   t        Near South Side           Entire rental unit   \n",
              "...               ...                    ...                          ...   \n",
              "4995                f            Rogers Park  Private room in guest suite   \n",
              "4996                f              Lake View           Entire rental unit   \n",
              "4997                f             North Park           Entire rental unit   \n",
              "4998                f              Lake View           Entire rental unit   \n",
              "4999                f          South Chicago          Shared room in home   \n",
              "\n",
              "            room_type  \n",
              "0        Private room  \n",
              "1        Private room  \n",
              "2     Entire home/apt  \n",
              "3     Entire home/apt  \n",
              "4     Entire home/apt  \n",
              "...               ...  \n",
              "4995     Private room  \n",
              "4996  Entire home/apt  \n",
              "4997  Entire home/apt  \n",
              "4998  Entire home/apt  \n",
              "4999      Shared room  \n",
              "\n",
              "[5000 rows x 13 columns]"
            ]
          },
          "execution_count": 174,
          "metadata": {},
          "output_type": "execute_result"
        }
      ],
      "source": [
        "non_numeric_columns = training_dataset.columns.difference(numeric_df.columns)\n",
        "\n",
        "# Select the non-numeric columns\n",
        "non_numeric_df = training_dataset[non_numeric_columns]\n",
        "non_numeric_df"
      ]
    },
    {
      "cell_type": "code",
      "execution_count": null,
      "id": "c40a230c",
      "metadata": {
        "id": "c40a230c"
      },
      "outputs": [],
      "source": [
        "#finding what numeric columns have missing values\n",
        "index = numeric_df.isnull().sum() != 0"
      ]
    },
    {
      "cell_type": "code",
      "execution_count": null,
      "id": "54d0b33e",
      "metadata": {
        "id": "54d0b33e",
        "outputId": "8f9c33aa-18ce-40b1-9df5-e1fa9bd5d73e"
      },
      "outputs": [
        {
          "data": {
            "text/plain": [
              "Index(['host_response_rate', 'host_acceptance_rate', 'beds',\n",
              "       'review_scores_rating', 'review_scores_accuracy',\n",
              "       'review_scores_cleanliness', 'review_scores_checkin',\n",
              "       'review_scores_communication', 'review_scores_location',\n",
              "       'review_scores_value', 'reviews_per_month'],\n",
              "      dtype='object')"
            ]
          },
          "execution_count": 176,
          "metadata": {},
          "output_type": "execute_result"
        }
      ],
      "source": [
        "names_columns_missing_data=numeric_df.columns[index]\n",
        "names_columns_missing_data"
      ]
    },
    {
      "cell_type": "code",
      "execution_count": null,
      "id": "3960305e",
      "metadata": {
        "id": "3960305e",
        "outputId": "dd08309d-c02c-4c0c-fb3c-64ee7366eb6d"
      },
      "outputs": [
        {
          "data": {
            "text/plain": [
              "array([ 0,  1,  7, 24, 25, 26, 27, 28, 29, 30, 35])"
            ]
          },
          "execution_count": 177,
          "metadata": {},
          "output_type": "execute_result"
        }
      ],
      "source": [
        "index_columns_missing_data = np.where(numeric_df.isnull().sum())\n",
        "index_columns_missing_data[0]"
      ]
    },
    {
      "cell_type": "code",
      "execution_count": null,
      "id": "ea0c1307",
      "metadata": {
        "id": "ea0c1307"
      },
      "outputs": [],
      "source": [
        "#missing value imoutation\n",
        "\n",
        "missing_value_cols=index_columns_missing_data[0]\n",
        "#Create an object of type MinMaxScaler\n",
        "scaler = sk.preprocessing.MinMaxScaler()\n",
        "\n",
        "#Use the object method 'fit_transform' to scale the values to a standard uniform distribution\n",
        "scaled_data = pd.DataFrame(scaler.fit_transform(numeric_df.iloc[:,missing_value_cols]))\n",
        "\n",
        "#Define an object of type KNNImputer\n",
        "imputer = impute.KNNImputer(n_neighbors=5, weights=\"uniform\")#chose n_neighbors to be 5\n",
        "\n",
        "#Use the object method 'fit_transform' to impute missing values\n",
        "imputed_arr = imputer.fit_transform(scaled_data)\n",
        "\n",
        "#Use the object method 'inverse_transform' to scale back the values to the original scale of the data\n",
        "unscaled_data = scaler.inverse_transform(imputed_arr)\n",
        "\n",
        "#reassining the original data of numerical missing columns to the new imputed values\n",
        "training_dataset[names_columns_missing_data.to_list()]= unscaled_data\n"
      ]
    },
    {
      "cell_type": "code",
      "execution_count": null,
      "id": "ece40239",
      "metadata": {
        "id": "ece40239",
        "outputId": "f4bd57f3-3f5a-4835-f04c-5635f92cd7d5"
      },
      "outputs": [
        {
          "data": {
            "text/plain": [
              "bathrooms_text             True\n",
              "has_availability          False\n",
              "host_has_profile_pic      False\n",
              "host_identity_verified    False\n",
              "host_is_superhost          True\n",
              "host_location              True\n",
              "host_neighbourhood         True\n",
              "host_response_time         True\n",
              "host_verifications        False\n",
              "instant_bookable          False\n",
              "neighbourhood_cleansed    False\n",
              "property_type             False\n",
              "room_type                 False\n",
              "dtype: bool"
            ]
          },
          "execution_count": 179,
          "metadata": {},
          "output_type": "execute_result"
        }
      ],
      "source": [
        "#dealing with missing categorical variables\n",
        "#identifying the variables that have missing data\n",
        "index = non_numeric_df.isnull().sum() != 0\n",
        "index"
      ]
    },
    {
      "cell_type": "code",
      "execution_count": null,
      "id": "d2b48322",
      "metadata": {
        "id": "d2b48322",
        "outputId": "5f9de71e-403f-4c90-83dc-f34f528c656e"
      },
      "outputs": [
        {
          "data": {
            "text/plain": [
              "Index(['bathrooms_text', 'host_is_superhost', 'host_location',\n",
              "       'host_neighbourhood', 'host_response_time'],\n",
              "      dtype='object')"
            ]
          },
          "execution_count": 180,
          "metadata": {},
          "output_type": "execute_result"
        }
      ],
      "source": [
        "#getting names of missing catagoircal data in a vector\n",
        "names_categ_columns_missing_data=non_numeric_df.columns[index]\n",
        "names_categ_columns_missing_data"
      ]
    },
    {
      "cell_type": "code",
      "execution_count": null,
      "id": "0b48c7e6",
      "metadata": {
        "id": "0b48c7e6",
        "outputId": "ff6cd68d-afe2-423e-cee2-1437c28fd69d"
      },
      "outputs": [
        {
          "data": {
            "text/plain": [
              "array([0, 4, 5, 6, 7])"
            ]
          },
          "execution_count": 181,
          "metadata": {},
          "output_type": "execute_result"
        }
      ],
      "source": [
        "#getting index of missing catagoircal data in a vector\n",
        "index_cat_columns_missing_data = np.where(non_numeric_df.isnull().sum())\n",
        "index_cat_columns_missing_data[0]"
      ]
    },
    {
      "cell_type": "code",
      "execution_count": null,
      "id": "b77994f7",
      "metadata": {
        "id": "b77994f7",
        "outputId": "25eeea87-507f-41d1-89b2-f61f49976334"
      },
      "outputs": [
        {
          "name": "stderr",
          "output_type": "stream",
          "text": [
            "/tmp/ipykernel_154228/235310872.py:7: FutureWarning: DataFrame.applymap has been deprecated. Use DataFrame.map instead.\n",
            "  non_numeric_df[names_categ_columns_missing_data.to_list()]=non_numeric_df[names_categ_columns_missing_data.to_list()].applymap(null_to_none)\n",
            "/tmp/ipykernel_154228/235310872.py:7: SettingWithCopyWarning: \n",
            "A value is trying to be set on a copy of a slice from a DataFrame.\n",
            "Try using .loc[row_indexer,col_indexer] = value instead\n",
            "\n",
            "See the caveats in the documentation: https://pandas.pydata.org/pandas-docs/stable/user_guide/indexing.html#returning-a-view-versus-a-copy\n",
            "  non_numeric_df[names_categ_columns_missing_data.to_list()]=non_numeric_df[names_categ_columns_missing_data.to_list()].applymap(null_to_none)\n"
          ]
        }
      ],
      "source": [
        "def null_to_none(x):\n",
        "    if pd.isnull(x): #x==\"NaN\" didn't work #could put all the other locations in one category called \"other\"\n",
        "        return -1#\"no_value\" // return -1 instead of other\n",
        "    else:\n",
        "        return x\n",
        "\n",
        "non_numeric_df[names_categ_columns_missing_data.to_list()]=non_numeric_df[names_categ_columns_missing_data.to_list()].applymap(null_to_none)\n",
        "\n",
        "#reassigning the changed variables back into the training dataset\n",
        "training_dataset[non_numeric_df.columns.to_list()]= non_numeric_df"
      ]
    },
    {
      "cell_type": "code",
      "execution_count": null,
      "id": "d7fa02fc",
      "metadata": {
        "id": "d7fa02fc",
        "outputId": "5506dda7-7873-4862-9e49-41207406e183"
      },
      "outputs": [
        {
          "data": {
            "text/plain": [
              "array(['1 shared bath', '3 baths', '1 bath', '2 baths', '3.5 baths',\n",
              "       '1.5 baths', '1 private bath', '2.5 baths', '4 baths',\n",
              "       '2 shared baths', '3 shared baths', '1.5 shared baths', '0 baths',\n",
              "       '11.5 shared baths', '4.5 baths', '6 baths', '5.5 baths',\n",
              "       '5 baths', '7 baths', '11 shared baths', '2.5 shared baths',\n",
              "       'Half-bath', '10 baths', 'Shared half-bath', -1, '6.5 baths',\n",
              "       '8 baths', 'Private half-bath', '9.5 baths'], dtype=object)"
            ]
          },
          "execution_count": 183,
          "metadata": {},
          "output_type": "execute_result"
        }
      ],
      "source": [
        "training_dataset[\"bathrooms_text\"].unique()"
      ]
    },
    {
      "cell_type": "code",
      "execution_count": null,
      "id": "8fff40bb",
      "metadata": {
        "id": "8fff40bb"
      },
      "outputs": [],
      "source": [
        "#cleaning bathroom_text\n",
        "training_dataset.loc[training_dataset[\"bathrooms_text\"] == \"Shared half-bath\", \"bathrooms_text\"] = \"0.5 shared\"\n",
        "training_dataset.loc[training_dataset[\"bathrooms_text\"] == \"Private half-bath\", \"bathrooms_text\"] = \"0.5 private\"\n",
        "training_dataset.loc[training_dataset[\"bathrooms_text\"] == \"Half-bath\", \"bathrooms_text\"] = \"0.5 bath\"\n",
        "\n",
        "#function to extract number in bathroon_text: dividing the number of bathrooms by 2 if it's a shared bathroom\n",
        "def extract_number (x):\n",
        "    if len(x)>0:\n",
        "        list_of_strings=x.split()\n",
        "        if \"shared\" in list_of_strings:\n",
        "            number= float(list_of_strings[0])\n",
        "            return number/2\n",
        "        else:\n",
        "            return list_of_strings[0]\n",
        "    else:\n",
        "        return -1 #this isn't other - can I return zero?\n",
        "\n",
        "#apply the function\n",
        "training_dataset[\"bathrooms_text_numbers\"]=training_dataset[\"bathrooms_text\"].astype(str).apply(extract_number)\n",
        "#dropping None rows\n",
        "# ind_to_drop = training_dataset.loc[training_dataset[\"bathrooms_text_numbers\"].isin([\"None\"]),:].index.to_list()\n",
        "# training_dataset = training_dataset.drop(ind_to_drop, axis=0)\n",
        "\n",
        "#converting column to numeric\n",
        "training_dataset[\"bathrooms_text_numbers\"]=training_dataset[\"bathrooms_text_numbers\"].astype(float)\n",
        "#drop the bathroom text column\n",
        "training_dataset=training_dataset.drop(\"bathrooms_text\", axis=1)"
      ]
    },
    {
      "cell_type": "code",
      "execution_count": null,
      "id": "696c9f85",
      "metadata": {
        "id": "696c9f85",
        "outputId": "f0ba707b-2209-4280-a5d4-ff084ee76183"
      },
      "outputs": [
        {
          "data": {
            "text/plain": [
              "0       0.5\n",
              "1       3.0\n",
              "2       1.0\n",
              "3       1.0\n",
              "4       2.0\n",
              "       ... \n",
              "4995    1.0\n",
              "4996    1.0\n",
              "4997    1.0\n",
              "4998    1.0\n",
              "4999    1.0\n",
              "Name: bathrooms_text_numbers, Length: 5000, dtype: float64"
            ]
          },
          "execution_count": 185,
          "metadata": {},
          "output_type": "execute_result"
        }
      ],
      "source": [
        "training_dataset[\"bathrooms_text_numbers\"]"
      ]
    },
    {
      "cell_type": "code",
      "execution_count": null,
      "id": "c6cda78b",
      "metadata": {
        "id": "c6cda78b"
      },
      "outputs": [],
      "source": [
        "list_info=training_dataset[\"property_type\"].value_counts()\n",
        "# list_info"
      ]
    },
    {
      "cell_type": "code",
      "execution_count": null,
      "id": "e2548886",
      "metadata": {
        "id": "e2548886"
      },
      "outputs": [],
      "source": [
        "##cleaning property_type\n",
        "\n",
        "list_info=training_dataset[\"property_type\"].value_counts().sort_values(ascending=False)\n",
        "top_property_types=list_info.index[:3] #changed this from 15 to 3\n",
        "\n",
        "def clean_property_type_step1 (x):\n",
        "    if x in top_property_types:\n",
        "        return x\n",
        "    else:\n",
        "        list_of_words= x.split()\n",
        "        if \"Shared\" in list_of_words:\n",
        "            return \"Shared room\"\n",
        "        if \"Private\" in list_of_words:\n",
        "            return \"Private room\"\n",
        "\n",
        "training_dataset[\"property_type\"]=training_dataset[\"property_type\"].apply(clean_property_type_step1) #have 17 property types left\n",
        "\n",
        "def clean_property_type_step2 (x):\n",
        "    if x in top_property_types:\n",
        "        return x\n",
        "    else:\n",
        "        return \"other\"\n",
        "training_dataset[\"property_type\"]=training_dataset[\"property_type\"].apply(clean_property_type_step2) #have 17 property types left\n"
      ]
    },
    {
      "cell_type": "code",
      "execution_count": null,
      "id": "41aa20b1",
      "metadata": {
        "id": "41aa20b1"
      },
      "outputs": [],
      "source": [
        "#cleaning location\n",
        "def classify_host_location(x):\n",
        "    if x in ['Chicago, IL','New York, NY','United States','Skokie, IL','Springfield, IL','Los Angeles, CA','Tampa, FL','San Francisco, CA','Niles, IL',\n",
        " 'Naples, FL']:\n",
        "        return x\n",
        "    else:\n",
        "        return \"other\"\n",
        "\n",
        "training_dataset[\"host_location\"] =training_dataset[\"host_location\"].apply(classify_host_location)"
      ]
    },
    {
      "cell_type": "code",
      "execution_count": null,
      "id": "b1f831cb",
      "metadata": {
        "id": "b1f831cb"
      },
      "outputs": [],
      "source": [
        "# training_dataset[\"host_neighbourhood\"].value_counts()"
      ]
    },
    {
      "cell_type": "code",
      "execution_count": null,
      "id": "9ca81f32",
      "metadata": {
        "id": "9ca81f32"
      },
      "outputs": [],
      "source": [
        "# top_neihgborhoods"
      ]
    },
    {
      "cell_type": "code",
      "execution_count": null,
      "id": "1d8c2b3b",
      "metadata": {
        "id": "1d8c2b3b"
      },
      "outputs": [],
      "source": [
        "#cleaninng host neighborhood\n",
        "top_neihgborhoods=training_dataset[\"host_neighbourhood\"].value_counts().sort_values(ascending=False)[:3].index.to_list()\n",
        "\n",
        "def classify_host_neighboorhood(x):\n",
        "    if x in top_neihgborhoods:\n",
        "        return x\n",
        "    else:\n",
        "        return \"other\"\n",
        "training_dataset[\"host_neighbourhood\"] =training_dataset[\"host_neighbourhood\"].apply(classify_host_neighboorhood)\n"
      ]
    },
    {
      "cell_type": "code",
      "execution_count": null,
      "id": "0c3873a2",
      "metadata": {
        "id": "0c3873a2"
      },
      "outputs": [],
      "source": [
        "# training_dataset[\"neighbourhood_cleansed\"].value_counts().sort_values(ascending=False)[:3].index.to_list()\n"
      ]
    },
    {
      "cell_type": "code",
      "execution_count": null,
      "id": "1a36629f",
      "metadata": {
        "id": "1a36629f"
      },
      "outputs": [],
      "source": [
        "# test_dataset[\"neighbourhood_cleansed\"].value_counts().sort_values(ascending=False)[:3].index.to_list()"
      ]
    },
    {
      "cell_type": "code",
      "execution_count": null,
      "id": "8f030f84",
      "metadata": {
        "id": "8f030f84"
      },
      "outputs": [],
      "source": [
        "#cleaning neighboorhod_cleansed\n",
        "top_neighborhood_cleansed=training_dataset[\"neighbourhood_cleansed\"].value_counts().sort_values(ascending=False)[:3].index.to_list()\n",
        "\n",
        "def classify_neighboorhood_cleansed(x):\n",
        "    if x in top_neighborhood_cleansed:\n",
        "        return x\n",
        "    else:\n",
        "        return \"other\"\n",
        "training_dataset[\"neighbourhood_cleansed\"] =training_dataset[\"neighbourhood_cleansed\"].apply(classify_neighboorhood_cleansed)\n",
        "\n",
        "# training_dataset=full_dataset.fillna(method = 'ffill')"
      ]
    },
    {
      "cell_type": "code",
      "execution_count": null,
      "id": "0e2c9412",
      "metadata": {
        "id": "0e2c9412"
      },
      "outputs": [],
      "source": [
        "#cleanining hte Null values -\n",
        "# def clean_null"
      ]
    },
    {
      "cell_type": "code",
      "execution_count": null,
      "id": "af18551c",
      "metadata": {
        "id": "af18551c"
      },
      "outputs": [],
      "source": [
        "# missing_values_indices = np.where(training_dataset[\"host_response_time\"].isnull())\n",
        "# missing_values_indices[0]"
      ]
    },
    {
      "cell_type": "code",
      "execution_count": null,
      "id": "66f56c59",
      "metadata": {
        "id": "66f56c59"
      },
      "outputs": [],
      "source": [
        "# training_dataset.iloc[missing_values_indices[0],1]"
      ]
    },
    {
      "cell_type": "code",
      "execution_count": null,
      "id": "44df6ed2",
      "metadata": {
        "id": "44df6ed2"
      },
      "outputs": [],
      "source": [
        "# training_dataset.isnull().sum()"
      ]
    },
    {
      "cell_type": "code",
      "execution_count": null,
      "id": "69884b0d",
      "metadata": {
        "id": "69884b0d"
      },
      "outputs": [],
      "source": [
        "#training_dataset=training_dataset.fillna(method = 'ffill') - won't run anymore"
      ]
    },
    {
      "cell_type": "code",
      "execution_count": null,
      "id": "c0e2cbe7",
      "metadata": {
        "id": "c0e2cbe7"
      },
      "outputs": [],
      "source": [
        "#taking the log of response varaible\n",
        "training_dataset[\"log_price\"]=np.log(training_dataset[\"price\"])"
      ]
    },
    {
      "cell_type": "code",
      "execution_count": null,
      "id": "7f66d13b",
      "metadata": {
        "id": "7f66d13b"
      },
      "outputs": [],
      "source": [
        "#assigning the x and y variables\n",
        "X_train = training_dataset.drop([\"price\",\"log_price\"], axis=1)\n",
        "y_train = training_dataset[\"log_price\"]"
      ]
    },
    {
      "cell_type": "code",
      "execution_count": null,
      "id": "d304499e",
      "metadata": {
        "id": "d304499e"
      },
      "outputs": [],
      "source": [
        "#converting true false data to numerical data\n",
        "# def to_binary(x):\n",
        "#     if x== \"yes\":\n",
        "#         return 1\n",
        "#     else:\n",
        "#         return 0\n",
        "\n",
        "def to_binary(column):\n",
        "    return column.apply(lambda x: 1 if x == 't' or x == 'True' else 0)\n",
        "\n",
        "X_train[[\"has_availability\", \"host_has_profile_pic\",\"host_identity_verified\",\"host_is_superhost\",\"instant_bookable\"]] = X_train[[\"has_availability\", \"host_has_profile_pic\",\"host_identity_verified\",\"host_is_superhost\",\"instant_bookable\"]].apply(to_binary)"
      ]
    },
    {
      "cell_type": "code",
      "execution_count": null,
      "id": "f86b7015",
      "metadata": {
        "id": "f86b7015"
      },
      "outputs": [],
      "source": [
        "#getting dummies - will use this in all the training\n",
        "X_train_dummies=pd.get_dummies(X_train, drop_first=True)\n",
        "\n",
        "def to_binary_boolean(column):\n",
        "    return column.apply(lambda x: 1 if x == True else 0)\n",
        "\n",
        "X_train_dummies=X_train_dummies.apply(to_binary_boolean)"
      ]
    },
    {
      "cell_type": "code",
      "execution_count": null,
      "id": "bd6c64f7",
      "metadata": {
        "id": "bd6c64f7",
        "outputId": "1c25a205-33f6-43c7-c113-854306d67623"
      },
      "outputs": [
        {
          "name": "stderr",
          "output_type": "stream",
          "text": [
            "<>:3: SyntaxWarning: invalid escape sequence '\\$'\n",
            "<>:3: SyntaxWarning: invalid escape sequence '\\$'\n",
            "/tmp/ipykernel_154228/1319889790.py:3: SyntaxWarning: invalid escape sequence '\\$'\n",
            "  test_dataset.replace('[\\$,]', '', regex=True, inplace=True)\n"
          ]
        }
      ],
      "source": [
        "#doing same for test data\n",
        "#cleaning the price: removing the dollar sign\n",
        "test_dataset.replace('[\\$,]', '', regex=True, inplace=True)\n",
        "\n",
        "#cleaning the  % sign\n",
        "test_dataset[[\"host_acceptance_rate\",'host_response_rate']] = test_dataset[[\"host_acceptance_rate\",'host_response_rate']].apply(lambda x: x.str.replace(r'%', ''))\n",
        "\n",
        "#converting to a float\n",
        "test_dataset[['host_response_rate',\"host_acceptance_rate\",'beds','number_of_reviews']]=test_dataset[['host_response_rate',\"host_acceptance_rate\",'beds','number_of_reviews']].apply(lambda x: pd.to_numeric(x,errors = 'coerce'))"
      ]
    },
    {
      "cell_type": "code",
      "execution_count": null,
      "id": "96a0dc9b",
      "metadata": {
        "id": "96a0dc9b",
        "outputId": "f317e741-3815-4f1f-83f5-e0f18f4a5e1a"
      },
      "outputs": [
        {
          "name": "stderr",
          "output_type": "stream",
          "text": [
            "/tmp/ipykernel_154228/2720000875.py:46: FutureWarning: DataFrame.applymap has been deprecated. Use DataFrame.map instead.\n",
            "  non_numeric_df[names_categ_columns_missing_data.to_list()]=non_numeric_df[names_categ_columns_missing_data.to_list()].applymap(null_to_none)\n",
            "/tmp/ipykernel_154228/2720000875.py:46: SettingWithCopyWarning: \n",
            "A value is trying to be set on a copy of a slice from a DataFrame.\n",
            "Try using .loc[row_indexer,col_indexer] = value instead\n",
            "\n",
            "See the caveats in the documentation: https://pandas.pydata.org/pandas-docs/stable/user_guide/indexing.html#returning-a-view-versus-a-copy\n",
            "  non_numeric_df[names_categ_columns_missing_data.to_list()]=non_numeric_df[names_categ_columns_missing_data.to_list()].applymap(null_to_none)\n"
          ]
        }
      ],
      "source": [
        "numeric_df = test_dataset.select_dtypes(include=['number'])\n",
        "non_numeric_columns = test_dataset.columns.difference(numeric_df.columns)\n",
        "\n",
        "# Select the non-numeric columns\n",
        "non_numeric_df = test_dataset[non_numeric_columns]\n",
        "\n",
        "#finding what numeric columns have missing values\n",
        "index = numeric_df.isnull().sum() != 0\n",
        "\n",
        "names_columns_missing_data=numeric_df.columns[index]\n",
        "\n",
        "index_columns_missing_data = np.where(numeric_df.isnull().sum())\n",
        "\n",
        "#missing value imoutation\n",
        "\n",
        "missing_value_cols=index_columns_missing_data[0]\n",
        "#Create an object of type MinMaxScaler\n",
        "scaler = sk.preprocessing.MinMaxScaler()\n",
        "\n",
        "#Use the object method 'fit_transform' to scale the values to a standard uniform distribution\n",
        "scaled_data = pd.DataFrame(scaler.fit_transform(numeric_df.iloc[:,missing_value_cols]))\n",
        "\n",
        "#Define an object of type KNNImputer\n",
        "imputer = impute.KNNImputer(n_neighbors=5, weights=\"uniform\")#chose n_neighbors to be 5\n",
        "\n",
        "#Use the object method 'fit_transform' to impute missing values\n",
        "imputed_arr = imputer.fit_transform(scaled_data)\n",
        "\n",
        "#Use the object method 'inverse_transform' to scale back the values to the original scale of the data\n",
        "unscaled_data = scaler.inverse_transform(imputed_arr)\n",
        "\n",
        "#reassining the original data of numerical missing columns to the new imputed values\n",
        "test_dataset[names_columns_missing_data.to_list()]= unscaled_data\n",
        "\n",
        "#dealing with missing categorical variables\n",
        "#identifying the variables that have missing data\n",
        "index = non_numeric_df.isnull().sum() != 0\n",
        "\n",
        "#getting names of missing catagoircal data in a vector\n",
        "names_categ_columns_missing_data=non_numeric_df.columns[index]\n",
        "\n",
        "#getting index of missing catagoircal data in a vector\n",
        "index_cat_columns_missing_data = np.where(non_numeric_df.isnull().sum())\n",
        "\n",
        "#null to none cleaning\n",
        "non_numeric_df[names_categ_columns_missing_data.to_list()]=non_numeric_df[names_categ_columns_missing_data.to_list()].applymap(null_to_none)\n",
        "\n",
        "#reassigning the changed variables back into the training dataset\n",
        "test_dataset[non_numeric_df.columns.to_list()]= non_numeric_df"
      ]
    },
    {
      "cell_type": "code",
      "execution_count": null,
      "id": "3096ef12",
      "metadata": {
        "id": "3096ef12"
      },
      "outputs": [],
      "source": [
        "#cleaning bathroom_text\n",
        "test_dataset.loc[test_dataset[\"bathrooms_text\"] == \"Shared half-bath\", \"bathrooms_text\"] = \"0.5 shared\"\n",
        "test_dataset.loc[test_dataset[\"bathrooms_text\"] == \"Private half-bath\", \"bathrooms_text\"] = \"0.5 private\"\n",
        "test_dataset.loc[test_dataset[\"bathrooms_text\"] == \"Half-bath\", \"bathrooms_text\"] = \"0.5 bath\"\n",
        "\n",
        "#function to extract number in bathroon_text: dividing the number of bathrooms by 2 if it's a shared bathroom\n",
        "def extract_number (x):\n",
        "    if len(x)>0:\n",
        "        list_of_strings=x.split()\n",
        "        if \"shared\" in list_of_strings:\n",
        "            number= float(list_of_strings[0])\n",
        "            return number/2\n",
        "        else:\n",
        "            return list_of_strings[0]\n",
        "    else:\n",
        "        return -1\n",
        "\n",
        "#apply the function\n",
        "test_dataset[\"bathrooms_text_numbers\"]=test_dataset[\"bathrooms_text\"].astype(str).apply(extract_number)\n",
        "#dropping None rows\n",
        "# ind_to_drop = test_dataset.loc[test_dataset[\"bathrooms_text_numbers\"].isin([\"None\"]),:].index.to_list()\n",
        "# test_dataset = test_dataset.drop(ind_to_drop, axis=0)\n",
        "\n",
        "#converting column to numeric\n",
        "test_dataset[\"bathrooms_text_numbers\"]=test_dataset[\"bathrooms_text_numbers\"].astype(float)\n",
        "\n",
        "#dropping bathroom text cause we don't need it\n",
        "test_dataset=test_dataset.drop(\"bathrooms_text\", axis=1)"
      ]
    },
    {
      "cell_type": "code",
      "execution_count": null,
      "id": "eb0fb6c2",
      "metadata": {
        "id": "eb0fb6c2",
        "outputId": "7cb281d2-f467-4d1e-d303-8302e1492982"
      },
      "outputs": [
        {
          "data": {
            "text/plain": [
              "Index(['Entire rental unit', 'Entire condo', 'Private room in rental unit'], dtype='object', name='property_type')"
            ]
          },
          "execution_count": 207,
          "metadata": {},
          "output_type": "execute_result"
        }
      ],
      "source": [
        "top_property_types"
      ]
    },
    {
      "cell_type": "code",
      "execution_count": null,
      "id": "253254f9",
      "metadata": {
        "id": "253254f9"
      },
      "outputs": [],
      "source": [
        "##cleaning property_type\n",
        "\n",
        "list_info=test_dataset[\"property_type\"].value_counts().sort_values(ascending=False)\n",
        "top_property_types=list_info.index[:3]\n",
        "\n",
        "def clean_property_type_step1 (x):\n",
        "    if x in top_property_types:\n",
        "        return x\n",
        "    else:\n",
        "        list_of_words= x.split()\n",
        "        if \"Shared\" in list_of_words:\n",
        "            return \"Shared room\"\n",
        "        if \"Private\" in list_of_words:\n",
        "            return \"Private room\"\n",
        "\n",
        "test_dataset[\"property_type\"]=test_dataset[\"property_type\"].apply(clean_property_type_step1) #have 17 property types left\n",
        "\n",
        "def clean_property_type_step2 (x):\n",
        "    if x in top_property_types:\n",
        "        return x\n",
        "    else:\n",
        "        return \"other\"\n",
        "test_dataset[\"property_type\"]=test_dataset[\"property_type\"].apply(clean_property_type_step2) #have 17 property types left\n",
        "\n",
        "\n",
        "#cleaning location\n",
        "def classify_host_location(x):\n",
        "    if x in ['Chicago, IL','New York, NY','United States','Skokie, IL','Springfield, IL','Los Angeles, CA','Tampa, FL','San Francisco, CA','Niles, IL',\n",
        " 'Naples, FL']:\n",
        "        return x\n",
        "    else:\n",
        "        return \"other\"\n",
        "\n",
        "test_dataset[\"host_location\"] =test_dataset[\"host_location\"].apply(classify_host_location)"
      ]
    },
    {
      "cell_type": "code",
      "execution_count": null,
      "id": "2b07f084",
      "metadata": {
        "id": "2b07f084"
      },
      "outputs": [],
      "source": [
        "#cleaninng host neighborhood\n",
        "top_neihgborhoods=test_dataset[\"host_neighbourhood\"].value_counts().sort_values(ascending=False)[:3].index.to_list()\n",
        "\n",
        "def classify_host_neighboorhood(x):\n",
        "    if x in top_neihgborhoods:\n",
        "        return x\n",
        "    else:\n",
        "        return \"other\"\n",
        "test_dataset[\"host_neighbourhood\"] =test_dataset[\"host_neighbourhood\"].apply(classify_host_neighboorhood)\n",
        "\n"
      ]
    },
    {
      "cell_type": "code",
      "execution_count": null,
      "id": "84fca7c0",
      "metadata": {
        "id": "84fca7c0"
      },
      "outputs": [],
      "source": [
        "#cleaning neighboorhod_cleansed\n",
        "top_neighborhood_cleansed=test_dataset[\"neighbourhood_cleansed\"].value_counts().sort_values(ascending=False)[:3].index.to_list()\n",
        "\n",
        "def classify_neighboorhood_cleansed(x):\n",
        "    if x in top_neighborhood_cleansed:\n",
        "        return x\n",
        "    else:\n",
        "        return \"other\"\n",
        "test_dataset[\"neighbourhood_cleansed\"] =test_dataset[\"neighbourhood_cleansed\"].apply(classify_neighboorhood_cleansed)"
      ]
    },
    {
      "cell_type": "code",
      "execution_count": null,
      "id": "8107b405",
      "metadata": {
        "id": "8107b405"
      },
      "outputs": [],
      "source": [
        "# test_dataset=test_dataset.fillna(method = 'ffill')\n",
        "\n",
        "#assigning x and y test\n",
        "X_test = test_dataset #price .drop([\"price\",\"log_price\"], axis=1)\n",
        "# y_test = training_dataset[\"log_price\"] -not avaialble\n",
        "\n",
        "def to_binary(column):\n",
        "    return column.apply(lambda x: 1 if x == 't' or x == 'True' else 0)\n",
        "\n",
        "X_test[[\"has_availability\", \"host_has_profile_pic\",\"host_identity_verified\",\"host_is_superhost\",\"instant_bookable\"]] = X_test[[\"has_availability\", \"host_has_profile_pic\",\"host_identity_verified\",\"host_is_superhost\",\"instant_bookable\"]].apply(to_binary)\n",
        "\n",
        "#getting dummies - will use this in all the training\n",
        "X_test_dummies=pd.get_dummies(X_test, drop_first=True)\n",
        "\n",
        "def to_binary_boolean(column):\n",
        "    return column.apply(lambda x: 1 if x == True else 0)\n",
        "\n",
        "X_test_dummies=X_test_dummies.apply(to_binary_boolean)"
      ]
    },
    {
      "cell_type": "code",
      "execution_count": null,
      "id": "ddb78e7b",
      "metadata": {
        "id": "ddb78e7b"
      },
      "outputs": [],
      "source": [
        "#X_train: X_train_dummies\n",
        "#y_train: y_tarin\n",
        "#X_test: X_test_dummies"
      ]
    },
    {
      "cell_type": "code",
      "execution_count": null,
      "id": "b97e558d",
      "metadata": {
        "id": "b97e558d",
        "outputId": "36fbcb08-8f4c-42c9-a68a-dbd3c361e67a"
      },
      "outputs": [
        {
          "name": "stderr",
          "output_type": "stream",
          "text": [
            "/projects/e32107/src/stats-303/env2/lib/python3.12/site-packages/sklearn/ensemble/_bagging.py:1225: UserWarning: Some inputs do not have OOB scores. This probably means too few estimators were used to compute any reliable oob estimates.\n",
            "  warn(\n",
            "/projects/e32107/src/stats-303/env2/lib/python3.12/site-packages/sklearn/metrics/_regression.py:483: FutureWarning: 'squared' is deprecated in version 1.4 and will be removed in 1.6. To calculate the root mean squared error, use the function'root_mean_squared_error'.\n",
            "  warnings.warn(\n",
            "/projects/e32107/src/stats-303/env2/lib/python3.12/site-packages/sklearn/metrics/_regression.py:483: FutureWarning: 'squared' is deprecated in version 1.4 and will be removed in 1.6. To calculate the root mean squared error, use the function'root_mean_squared_error'.\n",
            "  warnings.warn(\n",
            "/projects/e32107/src/stats-303/env2/lib/python3.12/site-packages/sklearn/metrics/_regression.py:483: FutureWarning: 'squared' is deprecated in version 1.4 and will be removed in 1.6. To calculate the root mean squared error, use the function'root_mean_squared_error'.\n",
            "  warnings.warn(\n",
            "/projects/e32107/src/stats-303/env2/lib/python3.12/site-packages/sklearn/metrics/_regression.py:483: FutureWarning: 'squared' is deprecated in version 1.4 and will be removed in 1.6. To calculate the root mean squared error, use the function'root_mean_squared_error'.\n",
            "  warnings.warn(\n",
            "/projects/e32107/src/stats-303/env2/lib/python3.12/site-packages/sklearn/metrics/_regression.py:483: FutureWarning: 'squared' is deprecated in version 1.4 and will be removed in 1.6. To calculate the root mean squared error, use the function'root_mean_squared_error'.\n",
            "  warnings.warn(\n",
            "/projects/e32107/src/stats-303/env2/lib/python3.12/site-packages/sklearn/metrics/_regression.py:483: FutureWarning: 'squared' is deprecated in version 1.4 and will be removed in 1.6. To calculate the root mean squared error, use the function'root_mean_squared_error'.\n",
            "  warnings.warn(\n",
            "/projects/e32107/src/stats-303/env2/lib/python3.12/site-packages/sklearn/metrics/_regression.py:483: FutureWarning: 'squared' is deprecated in version 1.4 and will be removed in 1.6. To calculate the root mean squared error, use the function'root_mean_squared_error'.\n",
            "  warnings.warn(\n",
            "/projects/e32107/src/stats-303/env2/lib/python3.12/site-packages/sklearn/metrics/_regression.py:483: FutureWarning: 'squared' is deprecated in version 1.4 and will be removed in 1.6. To calculate the root mean squared error, use the function'root_mean_squared_error'.\n",
            "  warnings.warn(\n",
            "/projects/e32107/src/stats-303/env2/lib/python3.12/site-packages/sklearn/metrics/_regression.py:483: FutureWarning: 'squared' is deprecated in version 1.4 and will be removed in 1.6. To calculate the root mean squared error, use the function'root_mean_squared_error'.\n",
            "  warnings.warn(\n",
            "/projects/e32107/src/stats-303/env2/lib/python3.12/site-packages/sklearn/metrics/_regression.py:483: FutureWarning: 'squared' is deprecated in version 1.4 and will be removed in 1.6. To calculate the root mean squared error, use the function'root_mean_squared_error'.\n",
            "  warnings.warn(\n"
          ]
        }
      ],
      "source": [
        "#bagging\n",
        "#finding best n_estimators\n",
        "oob_rmse = []\n",
        "\n",
        "tree_number_values = np.arange(10,400, 40) #how to determine the range of this\n",
        "\n",
        "for tree in tree_number_values:\n",
        "    base_model = DecisionTreeRegressor(random_state=1)\n",
        "    model = BaggingRegressor(estimator = base_model, n_estimators = tree, oob_score=True, random_state = 1)\n",
        "    #model = RandomForestRegressor(random_state=1, n_estimators = tree, oob_score=True)\n",
        "    model.fit(X_train_dummies, y_train)\n",
        "    # Find the OOB performance and store it\n",
        "    oob_rmse.append(mean_squared_error(y_train, model.oob_prediction_, squared=False))"
      ]
    },
    {
      "cell_type": "code",
      "execution_count": null,
      "id": "9a2d4426",
      "metadata": {
        "id": "9a2d4426",
        "outputId": "7de9c747-3ae6-425c-fd3d-a731955e8023"
      },
      "outputs": [
        {
          "data": {
            "text/plain": [
              "Text(0.5, 0, 'number of trees')"
            ]
          },
          "execution_count": 39,
          "metadata": {},
          "output_type": "execute_result"
        },
        {
          "data": {
            "image/png": "[encoded data removed]",
            "text/plain": [
              "<Figure size 640x480 with 1 Axes>"
            ]
          },
          "metadata": {},
          "output_type": "display_data"
        }
      ],
      "source": [
        "plt.plot(tree_number_values, oob_rmse)\n",
        "plt.ylabel('OOB RMSE')\n",
        "plt.xlabel('number of trees')"
      ]
    },
    {
      "cell_type": "code",
      "execution_count": null,
      "id": "35356e3f",
      "metadata": {
        "id": "35356e3f",
        "outputId": "2faf541f-7cab-461e-fab4-261905a39014"
      },
      "outputs": [
        {
          "name": "stderr",
          "output_type": "stream",
          "text": [
            "/projects/e32107/src/stats-303/env2/lib/python3.12/site-packages/sklearn/ensemble/_bagging.py:1225: UserWarning: Some inputs do not have OOB scores. This probably means too few estimators were used to compute any reliable oob estimates.\n",
            "  warn(\n",
            "/projects/e32107/src/stats-303/env2/lib/python3.12/site-packages/sklearn/metrics/_regression.py:483: FutureWarning: 'squared' is deprecated in version 1.4 and will be removed in 1.6. To calculate the root mean squared error, use the function'root_mean_squared_error'.\n",
            "  warnings.warn(\n",
            "/projects/e32107/src/stats-303/env2/lib/python3.12/site-packages/sklearn/ensemble/_bagging.py:1225: UserWarning: Some inputs do not have OOB scores. This probably means too few estimators were used to compute any reliable oob estimates.\n",
            "  warn(\n",
            "/projects/e32107/src/stats-303/env2/lib/python3.12/site-packages/sklearn/metrics/_regression.py:483: FutureWarning: 'squared' is deprecated in version 1.4 and will be removed in 1.6. To calculate the root mean squared error, use the function'root_mean_squared_error'.\n",
            "  warnings.warn(\n",
            "/projects/e32107/src/stats-303/env2/lib/python3.12/site-packages/sklearn/ensemble/_bagging.py:1225: UserWarning: Some inputs do not have OOB scores. This probably means too few estimators were used to compute any reliable oob estimates.\n",
            "  warn(\n",
            "/projects/e32107/src/stats-303/env2/lib/python3.12/site-packages/sklearn/metrics/_regression.py:483: FutureWarning: 'squared' is deprecated in version 1.4 and will be removed in 1.6. To calculate the root mean squared error, use the function'root_mean_squared_error'.\n",
            "  warnings.warn(\n",
            "/projects/e32107/src/stats-303/env2/lib/python3.12/site-packages/sklearn/metrics/_regression.py:483: FutureWarning: 'squared' is deprecated in version 1.4 and will be removed in 1.6. To calculate the root mean squared error, use the function'root_mean_squared_error'.\n",
            "  warnings.warn(\n",
            "/projects/e32107/src/stats-303/env2/lib/python3.12/site-packages/sklearn/metrics/_regression.py:483: FutureWarning: 'squared' is deprecated in version 1.4 and will be removed in 1.6. To calculate the root mean squared error, use the function'root_mean_squared_error'.\n",
            "  warnings.warn(\n",
            "/projects/e32107/src/stats-303/env2/lib/python3.12/site-packages/sklearn/metrics/_regression.py:483: FutureWarning: 'squared' is deprecated in version 1.4 and will be removed in 1.6. To calculate the root mean squared error, use the function'root_mean_squared_error'.\n",
            "  warnings.warn(\n",
            "/projects/e32107/src/stats-303/env2/lib/python3.12/site-packages/sklearn/metrics/_regression.py:483: FutureWarning: 'squared' is deprecated in version 1.4 and will be removed in 1.6. To calculate the root mean squared error, use the function'root_mean_squared_error'.\n",
            "  warnings.warn(\n",
            "/projects/e32107/src/stats-303/env2/lib/python3.12/site-packages/sklearn/metrics/_regression.py:483: FutureWarning: 'squared' is deprecated in version 1.4 and will be removed in 1.6. To calculate the root mean squared error, use the function'root_mean_squared_error'.\n",
            "  warnings.warn(\n",
            "/projects/e32107/src/stats-303/env2/lib/python3.12/site-packages/sklearn/metrics/_regression.py:483: FutureWarning: 'squared' is deprecated in version 1.4 and will be removed in 1.6. To calculate the root mean squared error, use the function'root_mean_squared_error'.\n",
            "  warnings.warn(\n",
            "/projects/e32107/src/stats-303/env2/lib/python3.12/site-packages/sklearn/metrics/_regression.py:483: FutureWarning: 'squared' is deprecated in version 1.4 and will be removed in 1.6. To calculate the root mean squared error, use the function'root_mean_squared_error'.\n",
            "  warnings.warn(\n",
            "/projects/e32107/src/stats-303/env2/lib/python3.12/site-packages/sklearn/metrics/_regression.py:483: FutureWarning: 'squared' is deprecated in version 1.4 and will be removed in 1.6. To calculate the root mean squared error, use the function'root_mean_squared_error'.\n",
            "  warnings.warn(\n",
            "/projects/e32107/src/stats-303/env2/lib/python3.12/site-packages/sklearn/metrics/_regression.py:483: FutureWarning: 'squared' is deprecated in version 1.4 and will be removed in 1.6. To calculate the root mean squared error, use the function'root_mean_squared_error'.\n",
            "  warnings.warn(\n",
            "/projects/e32107/src/stats-303/env2/lib/python3.12/site-packages/sklearn/metrics/_regression.py:483: FutureWarning: 'squared' is deprecated in version 1.4 and will be removed in 1.6. To calculate the root mean squared error, use the function'root_mean_squared_error'.\n",
            "  warnings.warn(\n",
            "/projects/e32107/src/stats-303/env2/lib/python3.12/site-packages/sklearn/metrics/_regression.py:483: FutureWarning: 'squared' is deprecated in version 1.4 and will be removed in 1.6. To calculate the root mean squared error, use the function'root_mean_squared_error'.\n",
            "  warnings.warn(\n",
            "/projects/e32107/src/stats-303/env2/lib/python3.12/site-packages/sklearn/metrics/_regression.py:483: FutureWarning: 'squared' is deprecated in version 1.4 and will be removed in 1.6. To calculate the root mean squared error, use the function'root_mean_squared_error'.\n",
            "  warnings.warn(\n",
            "/projects/e32107/src/stats-303/env2/lib/python3.12/site-packages/sklearn/metrics/_regression.py:483: FutureWarning: 'squared' is deprecated in version 1.4 and will be removed in 1.6. To calculate the root mean squared error, use the function'root_mean_squared_error'.\n",
            "  warnings.warn(\n"
          ]
        }
      ],
      "source": [
        "#redoing it with a differnet range -- using RMSE\n",
        "oob_rmse = []\n",
        "\n",
        "tree_number_values = np.arange(10,90, 5) #how to determine the range of this\n",
        "\n",
        "for tree in tree_number_values:\n",
        "    base_model = DecisionTreeRegressor(random_state=1)\n",
        "    model = BaggingRegressor(estimator = base_model, n_estimators = tree, oob_score=True, random_state = 1)\n",
        "    #model = RandomForestRegressor(random_state=1, n_estimators = tree, oob_score=True)\n",
        "    model.fit(X_train_dummies, y_train)\n",
        "    # Find the OOB performance and store it\n",
        "    oob_rmse.append(mean_squared_error(y_train, model.oob_prediction_, squared=False))\n"
      ]
    },
    {
      "cell_type": "code",
      "execution_count": null,
      "id": "3d77f887",
      "metadata": {
        "id": "3d77f887",
        "outputId": "17917232-f76a-4208-b7a8-e2672e4d45b4"
      },
      "outputs": [
        {
          "data": {
            "text/plain": [
              "Text(0.5, 0, 'number of trees')"
            ]
          },
          "execution_count": 41,
          "metadata": {},
          "output_type": "execute_result"
        },
        {
          "data": {
            "image/png": "[encoded data removed]",
            "text/plain": [
              "<Figure size 640x480 with 1 Axes>"
            ]
          },
          "metadata": {},
          "output_type": "display_data"
        }
      ],
      "source": [
        "plt.plot(tree_number_values, oob_rmse)\n",
        "plt.ylabel('OOB RMSE')\n",
        "plt.xlabel('number of trees') #n_estiamtors = 20"
      ]
    },
    {
      "cell_type": "code",
      "execution_count": null,
      "id": "84127782",
      "metadata": {
        "id": "84127782",
        "outputId": "85d3541f-fb3a-4411-cb8f-f377152e5fb9"
      },
      "outputs": [
        {
          "name": "stdout",
          "output_type": "stream",
          "text": [
            "0.48558074986104793\n",
            "{'bootstrap': True, 'bootstrap_features': False, 'max_features': 0.75, 'max_samples': 0.9}\n"
          ]
        }
      ],
      "source": [
        "base_model = DecisionTreeRegressor(random_state=1)\n",
        "model = BaggingRegressor(estimator = base_model, n_estimators = 20, random_state = 1)\n",
        "\n",
        "grid = {\n",
        "    'max_samples': [0.5, 0.75, 0.9, 1.0],\n",
        "    'max_features':[0.5, 0.75, 0.9, 1.0],\n",
        "    'bootstrap':[True, False],\n",
        "    'bootstrap_features':[True, False]\n",
        "}\n",
        "\n",
        "grid_search_cv = GridSearchCV(model, grid, cv = KFold(n_splits=5, shuffle= True, random_state=1),\n",
        "                              scoring = \"neg_root_mean_squared_error\",n_jobs=int(os.getenv(\"SLURM_NPROCS\", 1)))\n",
        "\n",
        "grid_search_cv.fit(X_train_dummies, y_train)\n",
        "\n",
        "print(-grid_search_cv.best_score_)\n",
        "print(grid_search_cv.best_params_)"
      ]
    },
    {
      "cell_type": "code",
      "execution_count": null,
      "id": "4a6441d3",
      "metadata": {
        "id": "4a6441d3"
      },
      "outputs": [],
      "source": [
        "#predicting using test data\n",
        "y_pred=np.exp(grid_search_cv.best_estimator_.predict(X_test_dummies))"
      ]
    },
    {
      "cell_type": "code",
      "execution_count": null,
      "id": "18225b31",
      "metadata": {
        "id": "18225b31"
      },
      "outputs": [],
      "source": [
        "test_info= pd.read_csv(\"test_regression.csv\") # uncleaned, uploading again just because of variable name"
      ]
    },
    {
      "cell_type": "code",
      "execution_count": null,
      "id": "14fd5485",
      "metadata": {
        "id": "14fd5485"
      },
      "outputs": [],
      "source": [
        "submiss_final=pd.DataFrame(test_info.id)\n",
        "submiss_final['predicted']=y_pred"
      ]
    },
    {
      "cell_type": "code",
      "execution_count": null,
      "id": "b1946835",
      "metadata": {
        "id": "b1946835"
      },
      "outputs": [],
      "source": [
        "submiss_final.to_csv('submiss_final.csv', index=False)"
      ]
    }
  ],
  "metadata": {
    "kernelspec": {
      "display_name": "Python (STATS-303 Kernel)",
      "language": "python",
      "name": "stats-303"
    },
    "language_info": {
      "codemirror_mode": {
        "name": "ipython",
        "version": 3
      },
      "file_extension": ".py",
      "mimetype": "text/x-python",
      "name": "python",
      "nbconvert_exporter": "python",
      "pygments_lexer": "ipython3",
      "version": "3.12.3"
    },
    "colab": {
      "provenance": []
    }
  },
  "nbformat": 4,
  "nbformat_minor": 5
}